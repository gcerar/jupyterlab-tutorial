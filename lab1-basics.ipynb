{
 "cells": [
  {
   "cell_type": "markdown",
   "metadata": {},
   "source": [
    "# Welcome to Jupyter notebooks introduction course (for researchers)\n",
    "\n",
    "Jupyter notebooks can be a nice addition for researchers. Notebooks allow fast prototyping and to quicky present or share ideas.\n",
    "\n",
    "\n",
    "To make naming clear. **Jupyter Notebook** started as the initial idea. It is still supported and used. However, it will be gradually replaced with **Jupyter Lab** and serves as drop-in replacement for notebooks.\n",
    "\n",
    "There are many ways to work and present your work made in Jupyter:\n",
    " - Local instance of Jupyter notebooks. Your hardware is your limitation. No software restrictions.\n",
    " - GitHub know how to present content of notebooks when searching through online repository\n",
    " - [Google Colab](https://colab.research.google.com/) offers free-of-charge tier of Jupyter Notebook instances, with their hardware. Google offers CPU-only, GPU, TPU instances. Free version has some limitations on resources (CPU, memory) and constrained running time (6 hours). Google Drive is your storage.\n",
    " - [JupyterHub] is designed to support classrooms. No restriction, you have to deploy it yourself.\n",
    " - [MyBinder](https://mybinder.readthedocs.io/en/latest/introduction.html) is another option to host and run your notebooks. It requires github account and repository to work on, then it creates container with your notebook on their infrastructure and notebook is publicly available."
   ]
  },
  {
   "cell_type": "markdown",
   "metadata": {},
   "source": [
    "Each Jupyter notebook is a file with .ipynb (IPython NoteBook). We start Jupyter notebook with the following CLI command:\n",
    "```bash\n",
    "jupyter notebook\n",
    "```\n",
    "\n",
    "When we run start Jupyter notebook, it fires up a default web browser, where it opens a tab [http://localhost:8888](http://localhost:8888). By default, your running notebook is **NOT** accessible from external network.\n",
    "\n",
    "For Windows users, I personally recommend [**Ananconda** Python distribution][1]. It comes with all dependencies taken care of, no matter the platform. Anaconda package is **HUGE** since it contains, own copy of most libraries. To run Jupyter Notebook on Windows, Anaconda offers graphical user interface (GUI), where you can run start Notebooks with a few clicks.\n",
    "\n",
    "One major advantage of Anaconda is its portability. Portability in sense that even if you run some *ancient* version of Linux distribution (e.g. Ubuntu 9.10), you will still be able to install Python 3.7, which was recently released, without any privilege escalation (i.e. sudo, su) commands.\n",
    "\n",
    "[1]: https://www.anaconda.com/distribution/"
   ]
  },
  {
   "cell_type": "markdown",
   "metadata": {},
   "source": [
    "## Cells\n",
    "In Notebooks, you will notice two major types of cells. The **code** and **Markdown** cells. Each cell can only be of **one** type. Type of a cell can easily be changed by clicking dropdown menu in toolbar."
   ]
  },
  {
   "cell_type": "markdown",
   "metadata": {},
   "source": [
    "### Markdown cells\n",
    "Markdown is a lightweight markup language. It means that with small notation convention, we can express that some text has to be **bold** or *italic*. Something can be [a link](#). We can even express table, like this:\n",
    "\n",
    "| Column A      | Column B      | Price |\n",
    "| ------------- |:-------------:| -----:|\n",
    "| col 3 is      | right-aligned | 30€   |\n",
    "| col 2 is      | centered      | 12€   |\n",
    "| zebra stripes | are neat      |  1€   |"
   ]
  },
  {
   "cell_type": "markdown",
   "metadata": {},
   "source": [
    "### Code cells\n",
    "The second type of cells are **code cells** for them applies the same rules as for Python code, but with few extensios."
   ]
  },
  {
   "cell_type": "code",
   "execution_count": 1,
   "metadata": {},
   "outputs": [],
   "source": [
    "a = 16 # assign integer to variable 'a', for example"
   ]
  },
  {
   "cell_type": "code",
   "execution_count": 2,
   "metadata": {},
   "outputs": [
    {
     "name": "stdout",
     "output_type": "stream",
     "text": [
      "16\n"
     ]
    }
   ],
   "source": [
    "print(a) # this will print values of variable 'a' as plain text"
   ]
  },
  {
   "cell_type": "code",
   "execution_count": 3,
   "metadata": {},
   "outputs": [
    {
     "data": {
      "text/plain": [
       "16"
      ]
     },
     "metadata": {},
     "output_type": "display_data"
    }
   ],
   "source": [
    "display(a) # this will also print, but certain objects will be present in more colorful way"
   ]
  },
  {
   "cell_type": "code",
   "execution_count": 4,
   "metadata": {},
   "outputs": [
    {
     "data": {
      "text/plain": [
       "16"
      ]
     },
     "execution_count": 4,
     "metadata": {},
     "output_type": "execute_result"
    }
   ],
   "source": [
    "a # if last line of a cell is simply a variable name, it will show it's value"
   ]
  },
  {
   "cell_type": "code",
   "execution_count": 5,
   "metadata": {},
   "outputs": [],
   "source": [
    "a = [51, 32, 14, 3.14]"
   ]
  },
  {
   "cell_type": "code",
   "execution_count": 6,
   "metadata": {},
   "outputs": [
    {
     "name": "stdout",
     "output_type": "stream",
     "text": [
      "[51, 32, 14, 3.14]\n"
     ]
    }
   ],
   "source": [
    "print(a)"
   ]
  },
  {
   "cell_type": "markdown",
   "metadata": {},
   "source": [
    "Jupyter notebooks use IPython interpreter underneath. IPython has an extension called *magic commands*. Here are few examples:"
   ]
  },
  {
   "cell_type": "code",
   "execution_count": 7,
   "metadata": {},
   "outputs": [
    {
     "name": "stdout",
     "output_type": "stream",
     "text": [
      "229 ns ± 6.25 ns per loop (mean ± std. dev. of 7 runs, 1000000 loops each)\n"
     ]
    }
   ],
   "source": [
    "%timeit sorted(a) # measures performance (execution time) of a command"
   ]
  },
  {
   "cell_type": "code",
   "execution_count": 8,
   "metadata": {},
   "outputs": [
    {
     "name": "stdout",
     "output_type": "stream",
     "text": [
      "Requirement already satisfied: imbalanced-learn in /home/gcerar/anaconda3/lib/python3.7/site-packages (0.6.1)\n",
      "Requirement already satisfied: joblib>=0.11 in /home/gcerar/anaconda3/lib/python3.7/site-packages (from imbalanced-learn) (0.14.1)\n",
      "Requirement already satisfied: numpy>=1.11 in /home/gcerar/anaconda3/lib/python3.7/site-packages (from imbalanced-learn) (1.18.1)\n",
      "Requirement already satisfied: scikit-learn>=0.22 in /home/gcerar/anaconda3/lib/python3.7/site-packages (from imbalanced-learn) (0.22.1)\n",
      "Requirement already satisfied: scipy>=0.17 in /home/gcerar/anaconda3/lib/python3.7/site-packages (from imbalanced-learn) (1.4.1)\n",
      "Note: you may need to restart the kernel to use updated packages.\n"
     ]
    }
   ],
   "source": [
    "%pip install imbalanced-learn # We can install packages inside jupyter, same goes for %conda"
   ]
  },
  {
   "cell_type": "code",
   "execution_count": 9,
   "metadata": {},
   "outputs": [
    {
     "data": {
      "application/json": {
       "cell": {
        "!": "OSMagics",
        "HTML": "Other",
        "SVG": "Other",
        "bash": "Other",
        "capture": "ExecutionMagics",
        "debug": "ExecutionMagics",
        "file": "Other",
        "html": "DisplayMagics",
        "javascript": "DisplayMagics",
        "js": "DisplayMagics",
        "latex": "DisplayMagics",
        "markdown": "DisplayMagics",
        "perl": "Other",
        "prun": "ExecutionMagics",
        "pypy": "Other",
        "python": "Other",
        "python2": "Other",
        "python3": "Other",
        "ruby": "Other",
        "script": "ScriptMagics",
        "sh": "Other",
        "svg": "DisplayMagics",
        "sx": "OSMagics",
        "system": "OSMagics",
        "time": "ExecutionMagics",
        "timeit": "ExecutionMagics",
        "writefile": "OSMagics"
       },
       "line": {
        "alias": "OSMagics",
        "alias_magic": "BasicMagics",
        "autoawait": "AsyncMagics",
        "autocall": "AutoMagics",
        "automagic": "AutoMagics",
        "autosave": "KernelMagics",
        "bookmark": "OSMagics",
        "cat": "Other",
        "cd": "OSMagics",
        "clear": "KernelMagics",
        "colors": "BasicMagics",
        "conda": "PackagingMagics",
        "config": "ConfigMagics",
        "connect_info": "KernelMagics",
        "cp": "Other",
        "debug": "ExecutionMagics",
        "dhist": "OSMagics",
        "dirs": "OSMagics",
        "doctest_mode": "BasicMagics",
        "ed": "Other",
        "edit": "KernelMagics",
        "env": "OSMagics",
        "gui": "BasicMagics",
        "hist": "Other",
        "history": "HistoryMagics",
        "killbgscripts": "ScriptMagics",
        "ldir": "Other",
        "less": "KernelMagics",
        "lf": "Other",
        "lk": "Other",
        "ll": "Other",
        "load": "CodeMagics",
        "load_ext": "ExtensionMagics",
        "loadpy": "CodeMagics",
        "logoff": "LoggingMagics",
        "logon": "LoggingMagics",
        "logstart": "LoggingMagics",
        "logstate": "LoggingMagics",
        "logstop": "LoggingMagics",
        "ls": "Other",
        "lsmagic": "BasicMagics",
        "lx": "Other",
        "macro": "ExecutionMagics",
        "magic": "BasicMagics",
        "man": "KernelMagics",
        "matplotlib": "PylabMagics",
        "mkdir": "Other",
        "more": "KernelMagics",
        "mv": "Other",
        "notebook": "BasicMagics",
        "page": "BasicMagics",
        "pastebin": "CodeMagics",
        "pdb": "ExecutionMagics",
        "pdef": "NamespaceMagics",
        "pdoc": "NamespaceMagics",
        "pfile": "NamespaceMagics",
        "pinfo": "NamespaceMagics",
        "pinfo2": "NamespaceMagics",
        "pip": "PackagingMagics",
        "popd": "OSMagics",
        "pprint": "BasicMagics",
        "precision": "BasicMagics",
        "prun": "ExecutionMagics",
        "psearch": "NamespaceMagics",
        "psource": "NamespaceMagics",
        "pushd": "OSMagics",
        "pwd": "OSMagics",
        "pycat": "OSMagics",
        "pylab": "PylabMagics",
        "qtconsole": "KernelMagics",
        "quickref": "BasicMagics",
        "recall": "HistoryMagics",
        "rehashx": "OSMagics",
        "reload_ext": "ExtensionMagics",
        "rep": "Other",
        "rerun": "HistoryMagics",
        "reset": "NamespaceMagics",
        "reset_selective": "NamespaceMagics",
        "rm": "Other",
        "rmdir": "Other",
        "run": "ExecutionMagics",
        "save": "CodeMagics",
        "sc": "OSMagics",
        "set_env": "OSMagics",
        "store": "StoreMagics",
        "sx": "OSMagics",
        "system": "OSMagics",
        "tb": "ExecutionMagics",
        "time": "ExecutionMagics",
        "timeit": "ExecutionMagics",
        "unalias": "OSMagics",
        "unload_ext": "ExtensionMagics",
        "who": "NamespaceMagics",
        "who_ls": "NamespaceMagics",
        "whos": "NamespaceMagics",
        "xdel": "NamespaceMagics",
        "xmode": "BasicMagics"
       }
      },
      "text/plain": [
       "Available line magics:\n",
       "%alias  %alias_magic  %autoawait  %autocall  %automagic  %autosave  %bookmark  %cat  %cd  %clear  %colors  %conda  %config  %connect_info  %cp  %debug  %dhist  %dirs  %doctest_mode  %ed  %edit  %env  %gui  %hist  %history  %killbgscripts  %ldir  %less  %lf  %lk  %ll  %load  %load_ext  %loadpy  %logoff  %logon  %logstart  %logstate  %logstop  %ls  %lsmagic  %lx  %macro  %magic  %man  %matplotlib  %mkdir  %more  %mv  %notebook  %page  %pastebin  %pdb  %pdef  %pdoc  %pfile  %pinfo  %pinfo2  %pip  %popd  %pprint  %precision  %prun  %psearch  %psource  %pushd  %pwd  %pycat  %pylab  %qtconsole  %quickref  %recall  %rehashx  %reload_ext  %rep  %rerun  %reset  %reset_selective  %rm  %rmdir  %run  %save  %sc  %set_env  %store  %sx  %system  %tb  %time  %timeit  %unalias  %unload_ext  %who  %who_ls  %whos  %xdel  %xmode\n",
       "\n",
       "Available cell magics:\n",
       "%%!  %%HTML  %%SVG  %%bash  %%capture  %%debug  %%file  %%html  %%javascript  %%js  %%latex  %%markdown  %%perl  %%prun  %%pypy  %%python  %%python2  %%python3  %%ruby  %%script  %%sh  %%svg  %%sx  %%system  %%time  %%timeit  %%writefile\n",
       "\n",
       "Automagic is ON, % prefix IS NOT needed for line magics."
      ]
     },
     "execution_count": 9,
     "metadata": {},
     "output_type": "execute_result"
    }
   ],
   "source": [
    "%lsmagic # Will list all available magic commands"
   ]
  },
  {
   "cell_type": "markdown",
   "metadata": {},
   "source": [
    "Another type of *magic* commands starts exclamation mark \"!\". Here are few examples:"
   ]
  },
  {
   "cell_type": "code",
   "execution_count": 10,
   "metadata": {},
   "outputs": [
    {
     "name": "stdout",
     "output_type": "stream",
     "text": [
      "lab1-basics.ipynb\t     lab4-plots-for-publications.ipynb\tREADME.md\n",
      "lab2-examine-datasets.ipynb  lab5-extra.ipynb\n",
      "lab3-simulation-data.ipynb   lab6-cpp-engine.ipynb\n"
     ]
    }
   ],
   "source": [
    "!ls # Run ls commands directly in the cell"
   ]
  },
  {
   "cell_type": "code",
   "execution_count": 11,
   "metadata": {},
   "outputs": [
    {
     "name": "stdout",
     "output_type": "stream",
     "text": [
      "8\n"
     ]
    }
   ],
   "source": [
    "!nproc # run nproc program"
   ]
  },
  {
   "cell_type": "code",
   "execution_count": 12,
   "metadata": {},
   "outputs": [
    {
     "name": "stdout",
     "output_type": "stream",
     "text": [
      "processor\t: 0\n",
      "vendor_id\t: GenuineIntel\n",
      "cpu family\t: 6\n",
      "model\t\t: 94\n",
      "model name\t: Intel(R) Core(TM) i7-6700HQ CPU @ 2.60GHz\n",
      "stepping\t: 3\n",
      "microcode\t: 0xd6\n",
      "cpu MHz\t\t: 1846.205\n",
      "cache size\t: 6144 KB\n",
      "physical id\t: 0\n",
      "siblings\t: 8\n",
      "core id\t\t: 0\n",
      "cpu cores\t: 4\n",
      "apicid\t\t: 0\n",
      "initial apicid\t: 0\n",
      "fpu\t\t: yes\n",
      "fpu_exception\t: yes\n",
      "cpuid level\t: 22\n",
      "wp\t\t: yes\n",
      "flags\t\t: fpu vme de pse tsc msr pae mce cx8 apic sep mtrr pge mca cmov pat pse36 clflush dts acpi mmx fxsr sse sse2 ss ht tm pbe syscall nx pdpe1gb rdtscp lm constant_tsc art arch_perfmon pebs bts rep_good nopl xtopology nonstop_tsc cpuid aperfmperf pni pclmulqdq dtes64 monitor ds_cpl vmx est tm2 ssse3 sdbg fma cx16 xtpr pdcm pcid sse4_1 sse4_2 x2apic movbe popcnt tsc_deadline_timer aes xsave avx f16c rdrand lahf_lm abm 3dnowprefetch cpuid_fault epb invpcid_single pti ssbd ibrs ibpb stibp tpr_shadow vnmi flexpriority ept vpid ept_ad fsgsbase tsc_adjust bmi1 hle avx2 smep bmi2 erms invpcid rtm mpx rdseed adx smap clflushopt intel_pt xsaveopt xsavec xgetbv1 xsaves dtherm ida arat pln pts hwp hwp_notify hwp_act_window hwp_epp md_clear flush_l1d\n"
     ]
    }
   ],
   "source": [
    "# Show head of certain linux file\n",
    "!head -n20 /proc/cpuinfo"
   ]
  },
  {
   "cell_type": "code",
   "execution_count": 13,
   "metadata": {},
   "outputs": [
    {
     "name": "stdout",
     "output_type": "stream",
     "text": [
      "total 592K\n",
      "drwxr-xr-x  4 gcerar gcerar 4,0K feb 26 14:15 .\n",
      "drwxr-xr-x 27 gcerar gcerar 4,0K feb 26 13:46 ..\n",
      "drwxr-xr-x  8 gcerar gcerar 4,0K feb 26 14:13 .git\n",
      "-rw-r--r--  1 gcerar gcerar 1,8K feb 26 14:12 .gitignore\n",
      "drwxr-xr-x  2 gcerar gcerar 4,0K feb 26 14:15 .ipynb_checkpoints\n",
      "-rw-rw-r--  1 gcerar gcerar  18K feb 26 14:15 lab1-basics.ipynb\n",
      "-rw-rw-r--  1 gcerar gcerar 359K feb 26 13:47 lab2-examine-datasets.ipynb\n",
      "-rw-rw-r--  1 gcerar gcerar  91K feb 26 13:47 lab3-simulation-data.ipynb\n",
      "-rw-rw-r--  1 gcerar gcerar  82K feb 26 13:47 lab4-plots-for-publications.ipynb\n",
      "-rw-rw-r--  1 gcerar gcerar 4,9K feb 26 13:47 lab5-extra.ipynb\n",
      "-rw-r--r--  1 gcerar gcerar 1,1K feb 26 13:48 lab6-cpp-engine.ipynb\n",
      "-rw-r--r--  1 gcerar gcerar  107 feb 26 13:53 README.md\n"
     ]
    }
   ],
   "source": [
    "# Show working directory in verbose way\n",
    "!ls -lah"
   ]
  },
  {
   "cell_type": "code",
   "execution_count": 14,
   "metadata": {},
   "outputs": [
    {
     "name": "stdout",
     "output_type": "stream",
     "text": [
      "--2020-02-26 14:16:08--  https://gist.githubusercontent.com/netj/8836201/raw/6f9306ad21398ea43cba4f7d537619d0e07d5ae3/iris.csv\n",
      "Resolving gist.githubusercontent.com (gist.githubusercontent.com)... 151.101.240.133\n",
      "Connecting to gist.githubusercontent.com (gist.githubusercontent.com)|151.101.240.133|:443... connected.\n",
      "HTTP request sent, awaiting response... 200 OK\n",
      "Length: 3975 (3,9K) [text/plain]\n",
      "Saving to: ‘iris.csv’\n",
      "\n",
      "iris.csv            100%[===================>]   3,88K  --.-KB/s    in 0s      \n",
      "\n",
      "2020-02-26 14:16:08 (37,8 MB/s) - ‘iris.csv’ saved [3975/3975]\n",
      "\n"
     ]
    }
   ],
   "source": [
    "# Fetch certain file for later use (e.g. dataset)\n",
    "!wget https://gist.githubusercontent.com/netj/8836201/raw/6f9306ad21398ea43cba4f7d537619d0e07d5ae3/iris.csv"
   ]
  },
  {
   "cell_type": "code",
   "execution_count": 15,
   "metadata": {},
   "outputs": [
    {
     "name": "stdout",
     "output_type": "stream",
     "text": [
      "\"sepal.length\",\"sepal.width\",\"petal.length\",\"petal.width\",\"variety\"\n",
      "5.1,3.5,1.4,.2,\"Setosa\"\n",
      "4.9,3,1.4,.2,\"Setosa\"\n",
      "4.7,3.2,1.3,.2,\"Setosa\"\n",
      "4.6,3.1,1.5,.2,\"Setosa\"\n",
      "5,3.6,1.4,.2,\"Setosa\"\n",
      "5.4,3.9,1.7,.4,\"Setosa\"\n",
      "4.6,3.4,1.4,.3,\"Setosa\"\n",
      "5,3.4,1.5,.2,\"Setosa\"\n",
      "4.4,2.9,1.4,.2,\"Setosa\"\n"
     ]
    }
   ],
   "source": [
    "# print first few lines of file with Linux tools\n",
    "!head iris.csv"
   ]
  },
  {
   "cell_type": "code",
   "execution_count": null,
   "metadata": {},
   "outputs": [],
   "source": []
  }
 ],
 "metadata": {
  "kernelspec": {
   "display_name": "Python 3",
   "language": "python",
   "name": "python3"
  },
  "language_info": {
   "codemirror_mode": {
    "name": "ipython",
    "version": 3
   },
   "file_extension": ".py",
   "mimetype": "text/x-python",
   "name": "python",
   "nbconvert_exporter": "python",
   "pygments_lexer": "ipython3",
   "version": "3.7.4"
  }
 },
 "nbformat": 4,
 "nbformat_minor": 4
}
